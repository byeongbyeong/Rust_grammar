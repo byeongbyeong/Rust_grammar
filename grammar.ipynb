{
 "cells": [
  {
   "cell_type": "markdown",
   "id": "cabcba51-18f8-4d9e-9168-16f739fde4fb",
   "metadata": {
    "tags": []
   },
   "source": [
    "# LET'S DO RUST"
   ]
  },
  {
   "cell_type": "code",
   "execution_count": 4,
   "id": "d9cd423d-4148-4233-b006-f33bd14adc45",
   "metadata": {},
   "outputs": [
    {
     "name": "stdout",
     "output_type": "stream",
     "text": [
      "Hello, world!\n"
     ]
    }
   ],
   "source": [
    "println!(\"Hello, world!\");"
   ]
  },
  {
   "cell_type": "markdown",
   "id": "8a09c86e-8fd4-4b54-b971-100c77ac7db9",
   "metadata": {},
   "source": [
    "## 변수"
   ]
  },
  {
   "cell_type": "code",
   "execution_count": 5,
   "id": "7ef6d788-b431-4f58-97bd-a347f6f8f656",
   "metadata": {},
   "outputs": [
    {
     "name": "stdout",
     "output_type": "stream",
     "text": [
      "The value of x is: 5\n",
      "The value of x is: 6\n"
     ]
    }
   ],
   "source": [
    "let mut x = 5;\n",
    "println!(\"The value of x is: {}\", x);\n",
    "x = 6;\n",
    "println!(\"The value of x is: {}\", x);"
   ]
  },
  {
   "cell_type": "code",
   "execution_count": 6,
   "id": "95ccab28-224b-41b8-bf7b-edabb752a607",
   "metadata": {},
   "outputs": [
    {
     "name": "stdout",
     "output_type": "stream",
     "text": [
      "The value of x is: 12\n"
     ]
    }
   ],
   "source": [
    "let x = 5;\n",
    "let x = x + 1;\n",
    "let x = x * 2;\n",
    "println!(\"The value of x is: {}\", x);"
   ]
  },
  {
   "cell_type": "code",
   "execution_count": 7,
   "id": "858134af-83f7-4830-a719-e1e9e513ef84",
   "metadata": {},
   "outputs": [
    {
     "data": {
      "text/plain": [
       "4"
      ]
     },
     "execution_count": 7,
     "metadata": {},
     "output_type": "execute_result"
    }
   ],
   "source": [
    "let spaces = \"    \";\n",
    "let spaces = spaces.len();\n",
    "spaces"
   ]
  },
  {
   "cell_type": "markdown",
   "id": "f03f5457-a9b6-40e2-947f-3c57c37a163c",
   "metadata": {},
   "source": [
    "## 변수 타입 "
   ]
  },
  {
   "cell_type": "code",
   "execution_count": 8,
   "id": "19812fa9-52f1-42e0-9001-3085d6e1593c",
   "metadata": {},
   "outputs": [
    {
     "name": "stdout",
     "output_type": "stream",
     "text": [
      "2,3\n"
     ]
    }
   ],
   "source": [
    "let x = 2.0;\n",
    "let y: f32 = 3.0;\n",
    "println!(\"{},{}\",x,y);"
   ]
  },
  {
   "cell_type": "code",
   "execution_count": 9,
   "id": "37e90bfb-0c07-41ab-bc3a-c7ce41926ddc",
   "metadata": {},
   "outputs": [
    {
     "data": {
      "text/plain": [
       "2.0"
      ]
     },
     "execution_count": 9,
     "metadata": {},
     "output_type": "execute_result"
    }
   ],
   "source": [
    "x"
   ]
  },
  {
   "cell_type": "code",
   "execution_count": 10,
   "id": "7d2a94ff-0be1-4471-b79f-afcfde5f7e3e",
   "metadata": {},
   "outputs": [
    {
     "data": {
      "text/plain": [
       "3.0"
      ]
     },
     "execution_count": 10,
     "metadata": {},
     "output_type": "execute_result"
    }
   ],
   "source": [
    "y"
   ]
  },
  {
   "cell_type": "code",
   "execution_count": 11,
   "id": "f4c42974-03d6-4494-af54-9a41305af9d2",
   "metadata": {},
   "outputs": [
    {
     "name": "stdout",
     "output_type": "stream",
     "text": [
      "15\n",
      "91.2\n",
      "120\n",
      "1.7608695652173911\n",
      "3\n"
     ]
    }
   ],
   "source": [
    "let sum = 5 + 10;\n",
    "let difference = 95.5 - 4.3;\n",
    "let product = 4*30;\n",
    "let quotient = 56.7 / 32.2;\n",
    "let remainder = 43 % 5;\n",
    "println!(\"{}\", sum);\n",
    "println!(\"{}\", difference);\n",
    "println!(\"{}\", product);\n",
    "println!(\"{}\", quotient);\n",
    "println!(\"{}\", remainder);"
   ]
  },
  {
   "cell_type": "code",
   "execution_count": 12,
   "id": "2f20782d-c01c-4ab9-a309-f61a59e8078f",
   "metadata": {},
   "outputs": [
    {
     "name": "stdout",
     "output_type": "stream",
     "text": [
      "true\n",
      "false\n"
     ]
    }
   ],
   "source": [
    "let t = true;\n",
    "let f: bool = false;\n",
    "\n",
    "println!(\"{}\", t);\n",
    "println!(\"{}\", f);"
   ]
  },
  {
   "cell_type": "code",
   "execution_count": 13,
   "id": "31af333c-d261-4e4d-a508-9493fdfc0c10",
   "metadata": {},
   "outputs": [
    {
     "name": "stdout",
     "output_type": "stream",
     "text": [
      "z\n",
      "ℤ\n",
      "😻\n"
     ]
    }
   ],
   "source": [
    "let c = 'z';\n",
    "let z = 'ℤ';\n",
    "let heart_eyed_cat = '😻';\n",
    "println!(\"{}\", c);\n",
    "println!(\"{}\", z);\n",
    "println!(\"{}\", heart_eyed_cat);"
   ]
  },
  {
   "cell_type": "code",
   "execution_count": 14,
   "id": "b3212d6f-5d32-4ba7-b05b-ba070daba994",
   "metadata": {},
   "outputs": [
    {
     "data": {
      "text/plain": [
       "(500, 6.4, 1)"
      ]
     },
     "execution_count": 14,
     "metadata": {},
     "output_type": "execute_result"
    }
   ],
   "source": [
    "let tup: (i32, f64, u8) = (500, 6.4, 1);\n",
    "tup"
   ]
  },
  {
   "cell_type": "code",
   "execution_count": 18,
   "id": "ce39341c-59e1-430b-baf2-c4e5bc1ca8df",
   "metadata": {},
   "outputs": [
    {
     "name": "stdout",
     "output_type": "stream",
     "text": [
      "y in tup6.4\n"
     ]
    }
   ],
   "source": [
    "let tup = (500, 6.4, 1);\n",
    "let (x, y, z) = tup;\n",
    "println!(\"y in tup{}\", y);"
   ]
  },
  {
   "cell_type": "code",
   "execution_count": 23,
   "id": "97c42fca-2f82-4764-8ea0-5128490eb27c",
   "metadata": {},
   "outputs": [
    {
     "name": "stdout",
     "output_type": "stream",
     "text": [
      "x[2] = 1\n"
     ]
    }
   ],
   "source": [
    "let x : (i32, f64, u8) = (500, 6.4, 1);\n",
    "let five_hundred = x.0;\n",
    "let six_point_four = x.1;\n",
    "let one = x.2;\n",
    "println!(\"x[2] = {}\", x.2);"
   ]
  },
  {
   "cell_type": "code",
   "execution_count": 24,
   "id": "1cf42445-f8a3-4c35-92ac-3e1556d056ca",
   "metadata": {},
   "outputs": [],
   "source": [
    "let months = [\"January\", \"February\", \"March\", \"April\", \"May\", \"June\", \"July\",\n",
    "              \"August\", \"September\", \"October\", \" November\", \"December\"];"
   ]
  },
  {
   "cell_type": "code",
   "execution_count": 30,
   "id": "849953cc-4d5c-44bf-b5d3-cd4e9dd70348",
   "metadata": {},
   "outputs": [
    {
     "data": {
      "text/plain": [
       "\"January\""
      ]
     },
     "execution_count": 30,
     "metadata": {},
     "output_type": "execute_result"
    }
   ],
   "source": [
    "let first = months[0];\n",
    "first"
   ]
  },
  {
   "cell_type": "code",
   "execution_count": 33,
   "id": "d468ee7f-b66b-47e7-a2d1-689fec285df7",
   "metadata": {},
   "outputs": [
    {
     "name": "stdout",
     "output_type": "stream",
     "text": [
      "The value of element is : 5\n"
     ]
    }
   ],
   "source": [
    "let a = [1,2,3,4,5];\n",
    "let index = 4;\n",
    "let element = a[index];\n",
    "println!(\"The value of element is : {}\", element);"
   ]
  },
  {
   "cell_type": "markdown",
   "id": "689928b3-0d79-48f1-be8b-a1fb4ea73a24",
   "metadata": {},
   "source": [
    "## 함수 동작 원리"
   ]
  },
  {
   "cell_type": "code",
   "execution_count": 36,
   "id": "44db25c7-ff71-4716-bc21-1db19e8c753f",
   "metadata": {},
   "outputs": [],
   "source": [
    "fn another_function() {\n",
    "    println!(\"Another function.\");\n",
    "}"
   ]
  },
  {
   "cell_type": "code",
   "execution_count": 37,
   "id": "13c56533-4644-4091-a70a-f41f4506e69f",
   "metadata": {},
   "outputs": [
    {
     "name": "stdout",
     "output_type": "stream",
     "text": [
      "Hello, world!\n",
      "Another function.\n"
     ]
    }
   ],
   "source": [
    "println!(\"Hello, world!\");\n",
    "another_function();\n"
   ]
  },
  {
   "cell_type": "markdown",
   "id": "2d3f54b3-3d33-452f-b7f6-941355a12880",
   "metadata": {},
   "source": [
    "주피터랩에서는 한 셀 기준 순으로 실행하므로 함수를 먼저 정의해야하지만\n",
    "\n",
    "RUST 자체 개발에서는 어느 위치에서 함수를 정의하던 동작이 가능하다."
   ]
  },
  {
   "cell_type": "code",
   "execution_count": 54,
   "id": "f6004945-ddfa-43e2-8c6e-ad55ea110b0d",
   "metadata": {},
   "outputs": [],
   "source": [
    "fn another_function(x: i32){\n",
    "    println!(\"The value of x is : {} \", x);\n",
    "}\n",
    "// x 값으로 정수만 받을 수 있음, 실수 받으러면 f64 등의 타입으로 지정해야함"
   ]
  },
  {
   "cell_type": "code",
   "execution_count": 55,
   "id": "870ba120-aca4-46f9-8ccd-c360f58be467",
   "metadata": {
    "tags": []
   },
   "outputs": [
    {
     "name": "stdout",
     "output_type": "stream",
     "text": [
      "The value of x is : 522 \n"
     ]
    },
    {
     "data": {
      "text/plain": [
       "()"
      ]
     },
     "execution_count": 55,
     "metadata": {},
     "output_type": "execute_result"
    }
   ],
   "source": [
    "another_function(5)"
   ]
  },
  {
   "cell_type": "code",
   "execution_count": 58,
   "id": "488ea06a-09e7-4855-b7a1-9e2341fce46b",
   "metadata": {
    "tags": []
   },
   "outputs": [
    {
     "name": "stdout",
     "output_type": "stream",
     "text": [
      "The value of x is : 5\n",
      "The value of y is : 6\n"
     ]
    }
   ],
   "source": [
    "fn another_function(x: i32, y:i32){\n",
    "    println!(\"The value of x is : {}\", x);\n",
    "    println!(\"The value of y is : {}\", y);\n",
    "}\n",
    "\n",
    "another_function(5,6);"
   ]
  },
  {
   "cell_type": "code",
   "execution_count": 60,
   "id": "12f264e4-c7dc-4ded-9b84-ef4630b3a85f",
   "metadata": {},
   "outputs": [
    {
     "name": "stdout",
     "output_type": "stream",
     "text": [
      "The value of y is : 4\n"
     ]
    }
   ],
   "source": [
    "let x = 5;\n",
    "let y = {\n",
    "    let x = 3;\n",
    "    x + 1\n",
    "};\n",
    "\n",
    "println!(\"The value of y is : {}\", y);"
   ]
  },
  {
   "cell_type": "code",
   "execution_count": 63,
   "id": "483e9f3f-9b80-4708-80c9-8c52fe6d859c",
   "metadata": {},
   "outputs": [
    {
     "name": "stdout",
     "output_type": "stream",
     "text": [
      "The value of x is: 5\n"
     ]
    },
    {
     "data": {
      "text/plain": [
       "()"
      ]
     },
     "execution_count": 63,
     "metadata": {},
     "output_type": "execute_result"
    }
   ],
   "source": [
    "fn five() -> i32 {\n",
    "    5\n",
    "}\n",
    "\n",
    "fn main() {\n",
    "    let x = five();\n",
    "    println!(\"The value of x is: {}\", x);\n",
    "}\n",
    "\n",
    "main()"
   ]
  },
  {
   "cell_type": "code",
   "execution_count": 67,
   "id": "99ea41aa-92fb-4937-8527-26d3e56e6ca7",
   "metadata": {},
   "outputs": [
    {
     "name": "stdout",
     "output_type": "stream",
     "text": [
      "The value of x is : 6\n"
     ]
    },
    {
     "data": {
      "text/plain": [
       "()"
      ]
     },
     "execution_count": 67,
     "metadata": {},
     "output_type": "execute_result"
    }
   ],
   "source": [
    "fn main() {\n",
    "    let x = plus_one(5);\n",
    "    \n",
    "    println!(\"The value of x is : {}\", x);\n",
    "}\n",
    "\n",
    "fn plus_one(x: i32) -> i32 {\n",
    "    x+1\n",
    "}\n",
    "\n",
    "main()"
   ]
  },
  {
   "cell_type": "markdown",
   "id": "b6383c19-30ee-4996-98f7-5e6cf14e991f",
   "metadata": {},
   "source": [
    "## 조건문 제어문"
   ]
  },
  {
   "cell_type": "code",
   "execution_count": 69,
   "id": "f02b9984-f956-46d7-99dc-90060323c6fc",
   "metadata": {},
   "outputs": [
    {
     "name": "stdout",
     "output_type": "stream",
     "text": [
      "condition was true\n"
     ]
    },
    {
     "data": {
      "text/plain": [
       "()"
      ]
     },
     "execution_count": 69,
     "metadata": {},
     "output_type": "execute_result"
    }
   ],
   "source": [
    "fn main() {\n",
    "    let number = 3;\n",
    "\n",
    "    if number < 5 {\n",
    "        println!(\"condition was true\");\n",
    "    } else {\n",
    "        println!(\"condition was false\");\n",
    "    }\n",
    "}\n",
    "\n",
    "main()"
   ]
  },
  {
   "cell_type": "code",
   "execution_count": 71,
   "id": "ca3a9c92-0325-4b5d-b79b-67f717c07598",
   "metadata": {},
   "outputs": [
    {
     "name": "stdout",
     "output_type": "stream",
     "text": [
      "number was three\n"
     ]
    },
    {
     "data": {
      "text/plain": [
       "()"
      ]
     },
     "execution_count": 71,
     "metadata": {},
     "output_type": "execute_result"
    }
   ],
   "source": [
    "fn main() {\n",
    "    let number = 3;\n",
    "\n",
    "    if number != 0{\n",
    "        println!(\"number was three\");\n",
    "    }\n",
    "}\n",
    "main()"
   ]
  },
  {
   "cell_type": "code",
   "execution_count": 73,
   "id": "fdafaf5f-2f35-48cc-80e2-e6b96fe3d24b",
   "metadata": {},
   "outputs": [
    {
     "name": "stdout",
     "output_type": "stream",
     "text": [
      "number is divisible by 3\n"
     ]
    },
    {
     "data": {
      "text/plain": [
       "()"
      ]
     },
     "execution_count": 73,
     "metadata": {},
     "output_type": "execute_result"
    }
   ],
   "source": [
    "fn main() {\n",
    "    let number = 6;\n",
    "\n",
    "    if number % 4 == 0 {\n",
    "        println!(\"number is divisible by 4\");\n",
    "    } else if number % 3 == 0 {\n",
    "        println!(\"number is divisible by 3\");\n",
    "    } else if number % 2 == 0 {\n",
    "        println!(\"number is divisible by 2\");\n",
    "    } else {\n",
    "        println!(\"number is not divisible by 4, 3, or 2\");\n",
    "    }\n",
    "}\n",
    "main()\n",
    "\n",
    "// rust 는 첫 번째로 조건에 맞는 것만 실행하고 그 뒤로는 검사하지 않음.\n",
    "// 따라서 2로 나누어짐에도 불구하고 그 뒤는 출력되지 않음."
   ]
  },
  {
   "cell_type": "code",
   "execution_count": 74,
   "id": "22541f7d-1da7-479f-b6c6-663c29228b85",
   "metadata": {},
   "outputs": [
    {
     "name": "stdout",
     "output_type": "stream",
     "text": [
      "The value of number is: 5\n"
     ]
    },
    {
     "data": {
      "text/plain": [
       "()"
      ]
     },
     "execution_count": 74,
     "metadata": {},
     "output_type": "execute_result"
    }
   ],
   "source": [
    "fn main() {\n",
    "    let condition = true;\n",
    "    let number = if condition {\n",
    "        5\n",
    "    } else {\n",
    "        6\n",
    "    };\n",
    "\n",
    "    println!(\"The value of number is: {}\", number);\n",
    "}\n",
    "main()"
   ]
  },
  {
   "cell_type": "code",
   "execution_count": 75,
   "id": "34752aa0-2c43-40a3-8ca1-3fd30985134e",
   "metadata": {
    "collapsed": true,
    "jupyter": {
     "outputs_hidden": true
    },
    "tags": []
   },
   "outputs": [
    {
     "ename": "Error",
     "evalue": "`if` and `else` have incompatible types",
     "output_type": "error",
     "traceback": [
      "\u001b[31m[E0308] Error:\u001b[0m `if` and `else` have incompatible types",
      "   \u001b[38;5;246m╭\u001b[0m\u001b[38;5;246m─\u001b[0m\u001b[38;5;246m[\u001b[0mcommand_75:1:1\u001b[38;5;246m]\u001b[0m",
      "   \u001b[38;5;246m│\u001b[0m",
      " \u001b[38;5;246m4 │\u001b[0m \u001b[38;5;68m╭\u001b[0m\u001b[38;5;68m─\u001b[0m\u001b[38;5;68m▶\u001b[0m\u001b[38;5;68m \u001b[0m\u001b[38;5;249m \u001b[0m\u001b[38;5;249m \u001b[0m\u001b[38;5;249m \u001b[0m\u001b[38;5;249m \u001b[0m\u001b[38;5;249ml\u001b[0m\u001b[38;5;249me\u001b[0m\u001b[38;5;249mt\u001b[0m\u001b[38;5;249m \u001b[0m\u001b[38;5;249mn\u001b[0m\u001b[38;5;249mu\u001b[0m\u001b[38;5;249mm\u001b[0m\u001b[38;5;249mb\u001b[0m\u001b[38;5;249me\u001b[0m\u001b[38;5;249mr\u001b[0m\u001b[38;5;249m \u001b[0m\u001b[38;5;249m=\u001b[0m\u001b[38;5;249m \u001b[0m\u001b[38;5;68mi\u001b[0m\u001b[38;5;68mf\u001b[0m\u001b[38;5;68m \u001b[0m\u001b[38;5;68mc\u001b[0m\u001b[38;5;68mo\u001b[0m\u001b[38;5;68mn\u001b[0m\u001b[38;5;68md\u001b[0m\u001b[38;5;68mi\u001b[0m\u001b[38;5;68mt\u001b[0m\u001b[38;5;68mi\u001b[0m\u001b[38;5;68mo\u001b[0m\u001b[38;5;68mn\u001b[0m\u001b[38;5;68m \u001b[0m\u001b[38;5;68m{\u001b[0m",
      " \u001b[38;5;246m5 │\u001b[0m \u001b[38;5;68m│\u001b[0m   \u001b[38;5;68m \u001b[0m\u001b[38;5;68m \u001b[0m\u001b[38;5;68m \u001b[0m\u001b[38;5;68m \u001b[0m\u001b[38;5;68m \u001b[0m\u001b[38;5;68m \u001b[0m\u001b[38;5;68m \u001b[0m\u001b[38;5;68m \u001b[0m\u001b[38;5;100m5\u001b[0m",
      " \u001b[38;5;240m  │\u001b[0m \u001b[38;5;68m│\u001b[0m           \u001b[38;5;100m┬\u001b[0m  ",
      " \u001b[38;5;240m  │\u001b[0m \u001b[38;5;68m│\u001b[0m           \u001b[38;5;100m╰\u001b[0m\u001b[38;5;100m─\u001b[0m\u001b[38;5;100m─\u001b[0m expected because of this",
      " \u001b[38;5;240m  ┆\u001b[0m \u001b[38;5;68m┆\u001b[0m   ",
      " \u001b[38;5;246m7 │\u001b[0m \u001b[38;5;68m│\u001b[0m   \u001b[38;5;68m \u001b[0m\u001b[38;5;68m \u001b[0m\u001b[38;5;68m \u001b[0m\u001b[38;5;68m \u001b[0m\u001b[38;5;68m \u001b[0m\u001b[38;5;68m \u001b[0m\u001b[38;5;68m \u001b[0m\u001b[38;5;68m \u001b[0m\u001b[38;5;54m\"\u001b[0m\u001b[38;5;54ms\u001b[0m\u001b[38;5;54mi\u001b[0m\u001b[38;5;54mx\u001b[0m\u001b[38;5;54m\"\u001b[0m",
      " \u001b[38;5;240m  │\u001b[0m \u001b[38;5;68m│\u001b[0m           \u001b[38;5;54m─\u001b[0m\u001b[38;5;54m─\u001b[0m\u001b[38;5;54m┬\u001b[0m\u001b[38;5;54m─\u001b[0m\u001b[38;5;54m─\u001b[0m  ",
      " \u001b[38;5;240m  │\u001b[0m \u001b[38;5;68m│\u001b[0m             \u001b[38;5;54m╰\u001b[0m\u001b[38;5;54m─\u001b[0m\u001b[38;5;54m─\u001b[0m\u001b[38;5;54m─\u001b[0m\u001b[38;5;54m─\u001b[0m expected integer, found `&str`",
      " \u001b[38;5;246m8 │\u001b[0m \u001b[38;5;68m├\u001b[0m\u001b[38;5;68m─\u001b[0m\u001b[38;5;68m▶\u001b[0m\u001b[38;5;68m \u001b[0m\u001b[38;5;68m \u001b[0m\u001b[38;5;68m \u001b[0m\u001b[38;5;68m \u001b[0m\u001b[38;5;68m \u001b[0m\u001b[38;5;68m}\u001b[0m\u001b[38;5;249m;\u001b[0m",
      " \u001b[38;5;240m  │\u001b[0m \u001b[38;5;68m│\u001b[0m            ",
      " \u001b[38;5;240m  │\u001b[0m \u001b[38;5;68m╰\u001b[0m\u001b[38;5;68m─\u001b[0m\u001b[38;5;68m─\u001b[0m\u001b[38;5;68m─\u001b[0m\u001b[38;5;68m─\u001b[0m\u001b[38;5;68m─\u001b[0m\u001b[38;5;68m─\u001b[0m\u001b[38;5;68m─\u001b[0m\u001b[38;5;68m─\u001b[0m\u001b[38;5;68m─\u001b[0m\u001b[38;5;68m─\u001b[0m\u001b[38;5;68m─\u001b[0m\u001b[38;5;68m─\u001b[0m `if` and `else` have incompatible types",
      "\u001b[38;5;246m───╯\u001b[0m"
     ]
    }
   ],
   "source": [
    "fn main() {\n",
    "    let condition = true;\n",
    "\n",
    "    let number = if condition {\n",
    "        5\n",
    "    } else {\n",
    "        \"six\" // 변수타입이 뭔지 하나로만 정의 가능함. -> 에러발생\n",
    "    };\n",
    "\n",
    "    println!(\"The value of number is: {}\", number);\n",
    "}\n",
    "main()"
   ]
  },
  {
   "cell_type": "code",
   "execution_count": 80,
   "id": "d8c91e93-fc34-4bb2-82c0-cd0fbb1fbbc2",
   "metadata": {},
   "outputs": [
    {
     "name": "stdout",
     "output_type": "stream",
     "text": [
      "3!\n",
      "2!\n",
      "1!\n",
      "LIFTOFF!!!\n"
     ]
    }
   ],
   "source": [
    "let mut number = 3;\n",
    "\n",
    "while number != 0 {\n",
    "    println!(\"{}!\", number);\n",
    "\n",
    "    number = number - 1;\n",
    "}\n",
    "\n",
    "println!(\"LIFTOFF!!!\");\n"
   ]
  },
  {
   "cell_type": "code",
   "execution_count": 81,
   "id": "ad438299-2844-4b59-9d8b-9f65c52f6cdb",
   "metadata": {},
   "outputs": [
    {
     "name": "stdout",
     "output_type": "stream",
     "text": [
      "the value is: 10\n",
      "the value is: 20\n",
      "the value is: 30\n",
      "the value is: 40\n",
      "the value is: 50\n"
     ]
    },
    {
     "data": {
      "text/plain": [
       "()"
      ]
     },
     "execution_count": 81,
     "metadata": {},
     "output_type": "execute_result"
    }
   ],
   "source": [
    "let a = [10, 20, 30, 40, 50];\n",
    "let mut index = 0;\n",
    "\n",
    "while index < 5 {\n",
    "    println!(\"the value is: {}\", a[index]);\n",
    "\n",
    "    index = index + 1;\n",
    "}"
   ]
  },
  {
   "cell_type": "code",
   "execution_count": 83,
   "id": "8d3aba57-4558-4c95-bcad-27555d2263ea",
   "metadata": {},
   "outputs": [
    {
     "name": "stdout",
     "output_type": "stream",
     "text": [
      "the value is: 10\n",
      "the value is: 20\n",
      "the value is: 30\n",
      "the value is: 40\n",
      "the value is: 50\n"
     ]
    },
    {
     "data": {
      "text/plain": [
       "()"
      ]
     },
     "execution_count": 83,
     "metadata": {},
     "output_type": "execute_result"
    }
   ],
   "source": [
    "fn main() {\n",
    "    let a = [10, 20, 30, 40, 50];\n",
    "\n",
    "    for element in a.iter() {\n",
    "        println!(\"the value is: {}\", element);\n",
    "    }\n",
    "}\n",
    "main()"
   ]
  },
  {
   "cell_type": "code",
   "execution_count": 84,
   "id": "2aca41ce-ba95-4123-b1a4-df51f1ab138b",
   "metadata": {},
   "outputs": [
    {
     "name": "stdout",
     "output_type": "stream",
     "text": [
      "3!\n",
      "2!\n",
      "1!\n",
      "LIFTOFF!!!\n"
     ]
    },
    {
     "data": {
      "text/plain": [
       "()"
      ]
     },
     "execution_count": 84,
     "metadata": {},
     "output_type": "execute_result"
    }
   ],
   "source": [
    "fn main() {\n",
    "    for number in (1..4).rev() {\n",
    "        println!(\"{}!\", number);\n",
    "    }\n",
    "    println!(\"LIFTOFF!!!\");\n",
    "}\n",
    "// rev() - range를 역순으로 \n",
    "main()"
   ]
  },
  {
   "cell_type": "code",
   "execution_count": 87,
   "id": "8e5ff211-f061-4360-8655-54ce1dbe059a",
   "metadata": {},
   "outputs": [
    {
     "name": "stdout",
     "output_type": "stream",
     "text": [
      "hello, world!\n"
     ]
    }
   ],
   "source": [
    "let mut s = String::from(\"hello\");\n",
    "\n",
    "s.push_str(\", world!\"); // push_str()은 해당 스트링 리터럴을 스트링에 붙여줍니다.\n",
    "\n",
    "println!(\"{}\", s); // 이 부분이 `hello, world!`를 출력할 겁니다."
   ]
  },
  {
   "cell_type": "code",
   "execution_count": 89,
   "id": "44508d71-e6ae-4398-8a14-2e0e3e656222",
   "metadata": {},
   "outputs": [
    {
     "name": "stdout",
     "output_type": "stream",
     "text": [
      "hello, world!\n"
     ]
    }
   ],
   "source": [
    "let s1 = \"hello\";\n",
    "let s2 = s1;\n",
    "\n",
    "println!(\"{}, world!\", s1);"
   ]
  },
  {
   "cell_type": "code",
   "execution_count": 91,
   "id": "0ee7f68c-9555-490f-b417-f00486e5ebd1",
   "metadata": {},
   "outputs": [
    {
     "name": "stdout",
     "output_type": "stream",
     "text": [
      "s1 = hello, s2 = hello\n"
     ]
    }
   ],
   "source": [
    "let s1 = String::from(\"hello\");\n",
    "let s2 = s1.clone();\n",
    "\n",
    "println!(\"s1 = {}, s2 = {}\", s1, s2);"
   ]
  },
  {
   "cell_type": "code",
   "execution_count": 92,
   "id": "82613273-96fa-440e-9873-0ebbe569b7d6",
   "metadata": {},
   "outputs": [
    {
     "name": "stdout",
     "output_type": "stream",
     "text": [
      "hello\n",
      "5\n"
     ]
    },
    {
     "data": {
      "text/plain": [
       "()"
      ]
     },
     "execution_count": 92,
     "metadata": {},
     "output_type": "execute_result"
    }
   ],
   "source": [
    "fn main() {\n",
    "    let s = String::from(\"hello\");  // s가 스코프 안으로 들어왔습니다.\n",
    "\n",
    "    takes_ownership(s);             // s의 값이 함수 안으로 이동했습니다...\n",
    "                                    // ... 그리고 이제 더이상 유효하지 않습니다.\n",
    "    let x = 5;                      // x가 스코프 안으로 들어왔습니다.\n",
    "\n",
    "    makes_copy(x);                  // x가 함수 안으로 이동했습니다만,\n",
    "                                    // i32는 Copy가 되므로, x를 이후에 계속\n",
    "                                    // 사용해도 됩니다.\n",
    "\n",
    "} // 여기서 x는 스코프 밖으로 나가고, s도 그 후 나갑니다. 하지만 s는 이미 이동되었으므로,\n",
    "  // 별다른 일이 발생하지 않습니다.\n",
    "\n",
    "fn takes_ownership(some_string: String) { // some_string이 스코프 안으로 들어왔습니다.\n",
    "    println!(\"{}\", some_string);\n",
    "} // 여기서 some_string이 스코프 밖으로 벗어났고 `drop`이 호출됩니다. 메모리는\n",
    "  // 해제되었습니다.\n",
    "\n",
    "fn makes_copy(some_integer: i32) { // some_integer이 스코프 안으로 들어왔습니다.\n",
    "    println!(\"{}\", some_integer);\n",
    "} // 여기서 some_integer가 스코프 밖으로 벗어났습니다. 별다른 일은 발생하지 않습니다.\n",
    "\n",
    "main()"
   ]
  },
  {
   "cell_type": "code",
   "execution_count": 101,
   "id": "55b6dbfa-7333-4580-bc09-e07bdd2c1e08",
   "metadata": {},
   "outputs": [],
   "source": [
    "fn main() {\n",
    "    let s1 = gives_ownership();         // gives_ownership은 반환값을 s1에게\n",
    "                                        // 이동시킵니다.\n",
    "\n",
    "    let s2 = String::from(\"hello\");     // s2가 스코프 안에 들어왔습니다.\n",
    "\n",
    "    let s3 = takes_and_gives_back(s2);  // s2는 takes_and_gives_back 안으로\n",
    "                                        // 이동되었고, 이 함수가 반환값을 s3으로도\n",
    "                                        // 이동시켰습니다.\n",
    "\n",
    "} // 여기서 s3는 스코프 밖으로 벗어났으며 drop이 호출됩니다. s2는 스코프 밖으로\n",
    "  // 벗어났지만 이동되었으므로 아무 일도 일어나지 않습니다. s1은 스코프 밖으로\n",
    "  // 벗어나서 drop이 호출됩니다.\n",
    "\n",
    "fn gives_ownership() -> String {             // gives_ownership 함수가 반환 값을\n",
    "                                             // 호출한 쪽으로 이동시킵니다.\n",
    "\n",
    "    let some_string = String::from(\"hello\"); // some_string이 스코프 안에 들어왔습니다.\n",
    "\n",
    "    some_string                              // some_string이 반환되고, 호출한 쪽의\n",
    "                                             // 함수로 이동됩니다.\n",
    "}\n",
    "\n",
    "// takes_and_gives_back 함수는 String을 하나 받아서 다른 하나를 반환합니다.\n",
    "fn takes_and_gives_back(a_string: String) -> String { // a_string이 스코프\n",
    "                                                      // 안으로 들어왔습니다.\n",
    "\n",
    "    a_string  // a_string은 반환되고, 호출한 쪽의 함수로 이동됩니다.\n",
    "}\n",
    "\n"
   ]
  },
  {
   "cell_type": "code",
   "execution_count": null,
   "id": "ec3c7e30-1491-4932-a7f7-d214d38ad0a1",
   "metadata": {},
   "outputs": [],
   "source": []
  }
 ],
 "metadata": {
  "kernelspec": {
   "display_name": "Rust",
   "language": "rust",
   "name": "rust"
  },
  "language_info": {
   "codemirror_mode": "rust",
   "file_extension": ".rs",
   "mimetype": "text/rust",
   "name": "Rust",
   "pygment_lexer": "rust",
   "version": ""
  }
 },
 "nbformat": 4,
 "nbformat_minor": 5
}
